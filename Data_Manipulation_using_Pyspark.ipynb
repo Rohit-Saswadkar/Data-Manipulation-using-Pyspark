{
  "cells": [
    {
      "cell_type": "markdown",
      "metadata": {
        "id": "view-in-github",
        "colab_type": "text"
      },
      "source": [
        "<a href=\"https://colab.research.google.com/github/Rohit-Saswadkar/Data-Manipulation-using-Pyspark/blob/main/Data_Manipulation_using_Pyspark.ipynb\" target=\"_parent\"><img src=\"https://colab.research.google.com/assets/colab-badge.svg\" alt=\"Open In Colab\"/></a>"
      ]
    },
    {
      "cell_type": "code",
      "execution_count": null,
      "metadata": {
        "colab": {
          "base_uri": "https://localhost:8080/"
        },
        "id": "9CI4GqWHjvGF",
        "outputId": "b35830ae-f8bc-45dd-b1b5-05578e374aa4"
      },
      "outputs": [
        {
          "output_type": "stream",
          "name": "stdout",
          "text": [
            "Collecting pyspark\n",
            "  Downloading pyspark-3.5.0.tar.gz (316.9 MB)\n",
            "\u001b[2K     \u001b[90m━━━━━━━━━━━━━━━━━━━━━━━━━━━━━━━━━━━━━━━━\u001b[0m \u001b[32m316.9/316.9 MB\u001b[0m \u001b[31m2.7 MB/s\u001b[0m eta \u001b[36m0:00:00\u001b[0m\n",
            "\u001b[?25h  Preparing metadata (setup.py) ... \u001b[?25l\u001b[?25hdone\n",
            "Requirement already satisfied: py4j==0.10.9.7 in /usr/local/lib/python3.10/dist-packages (from pyspark) (0.10.9.7)\n",
            "Building wheels for collected packages: pyspark\n",
            "  Building wheel for pyspark (setup.py) ... \u001b[?25l\u001b[?25hdone\n",
            "  Created wheel for pyspark: filename=pyspark-3.5.0-py2.py3-none-any.whl size=317425345 sha256=1737c1e0ba01504c5562ba281b85fdc058cc318bd53935770d312db241ebe544\n",
            "  Stored in directory: /root/.cache/pip/wheels/41/4e/10/c2cf2467f71c678cfc8a6b9ac9241e5e44a01940da8fbb17fc\n",
            "Successfully built pyspark\n",
            "Installing collected packages: pyspark\n",
            "Successfully installed pyspark-3.5.0\n"
          ]
        }
      ],
      "source": [
        "pip install pyspark"
      ]
    },
    {
      "cell_type": "markdown",
      "source": [
        "#Pyspark"
      ],
      "metadata": {
        "id": "njzMNwyqK903"
      }
    },
    {
      "cell_type": "markdown",
      "source": [
        "###Data frames"
      ],
      "metadata": {
        "id": "QWRoZ2pCMy3T"
      }
    },
    {
      "cell_type": "code",
      "source": [
        "from google.colab import drive\n",
        "drive.mount('/content/drive')"
      ],
      "metadata": {
        "colab": {
          "base_uri": "https://localhost:8080/"
        },
        "id": "LoxzwA-XsPtN",
        "outputId": "19b6e1e7-fac1-45b7-f3e3-a5ecd50d43d4"
      },
      "execution_count": null,
      "outputs": [
        {
          "output_type": "stream",
          "name": "stdout",
          "text": [
            "Mounted at /content/drive\n"
          ]
        }
      ]
    },
    {
      "cell_type": "markdown",
      "source": [
        "###Structure"
      ],
      "metadata": {
        "id": "lbu4zt2YM6NF"
      }
    },
    {
      "cell_type": "code",
      "source": [
        "from pyspark.sql import SparkSession"
      ],
      "metadata": {
        "id": "-PaSwy0mtMr2"
      },
      "execution_count": null,
      "outputs": []
    },
    {
      "cell_type": "code",
      "source": [
        "path = r'/content/drive/MyDrive/Py Spark/test2.csv'\n",
        "\n",
        "spark = SparkSession.builder.appName('Practice').getOrCreate()"
      ],
      "metadata": {
        "id": "i8BSZzdksdmP"
      },
      "execution_count": null,
      "outputs": []
    },
    {
      "cell_type": "code",
      "source": [
        "df = spark.read.csv(path) # either read as simple"
      ],
      "metadata": {
        "id": "XWAfvsjetb8Z"
      },
      "execution_count": null,
      "outputs": []
    },
    {
      "cell_type": "code",
      "source": [
        "df = spark.read.option('header','true').csv(path) # or get with headers ie column names"
      ],
      "metadata": {
        "id": "OvZPIgjRtiK1"
      },
      "execution_count": null,
      "outputs": []
    },
    {
      "cell_type": "code",
      "source": [
        "df.show()"
      ],
      "metadata": {
        "colab": {
          "base_uri": "https://localhost:8080/"
        },
        "id": "_DE6LJN6uEE1",
        "outputId": "85088f65-2a11-4cbb-f18f-e89d4e4d71c4"
      },
      "execution_count": null,
      "outputs": [
        {
          "output_type": "stream",
          "name": "stdout",
          "text": [
            "+---------+----+----------+------+\n",
            "|     Name| age|Experience|Salary|\n",
            "+---------+----+----------+------+\n",
            "|    Krish|  31|        10| 30000|\n",
            "|Sudhanshu|  30|         8| 25000|\n",
            "|    Sunny|  29|         4| 20000|\n",
            "|     Paul|  24|         3| 20000|\n",
            "|   Harsha|  21|         1| 15000|\n",
            "|  Shubham|  23|         2| 18000|\n",
            "|   Mahesh|NULL|      NULL| 40000|\n",
            "|     NULL|  34|        10| 38000|\n",
            "|     NULL|  36|      NULL|  NULL|\n",
            "+---------+----+----------+------+\n",
            "\n"
          ]
        }
      ]
    },
    {
      "cell_type": "code",
      "source": [
        "type(df) # check df type created by spark"
      ],
      "metadata": {
        "colab": {
          "base_uri": "https://localhost:8080/"
        },
        "id": "R1X26n0LuIXx",
        "outputId": "0036e061-152d-4fa0-b1bb-5eb51857715c"
      },
      "execution_count": null,
      "outputs": [
        {
          "output_type": "execute_result",
          "data": {
            "text/plain": [
              "pyspark.sql.dataframe.DataFrame"
            ]
          },
          "metadata": {},
          "execution_count": 8
        }
      ]
    },
    {
      "cell_type": "code",
      "source": [
        "# check info of dataframe\n",
        "df.printSchema()"
      ],
      "metadata": {
        "colab": {
          "base_uri": "https://localhost:8080/"
        },
        "id": "tzKbRuRpuSjo",
        "outputId": "63021a47-440d-45c7-da57-793798cfd1be"
      },
      "execution_count": null,
      "outputs": [
        {
          "output_type": "stream",
          "name": "stdout",
          "text": [
            "root\n",
            " |-- Name: string (nullable = true)\n",
            " |-- age: string (nullable = true)\n",
            " |-- Experience: string (nullable = true)\n",
            " |-- Salary: string (nullable = true)\n",
            "\n"
          ]
        }
      ]
    },
    {
      "cell_type": "markdown",
      "source": [
        "in above the info of numerical col is also string. to correct that we use inferSchema = true in read csv"
      ],
      "metadata": {
        "id": "-B1t40wCumyB"
      }
    },
    {
      "cell_type": "markdown",
      "source": [
        "###Get data"
      ],
      "metadata": {
        "id": "E4jdnuRQN78B"
      }
    },
    {
      "cell_type": "code",
      "source": [
        "df = spark.read.option('header','true').csv(path , inferSchema = True)"
      ],
      "metadata": {
        "id": "De-X-apVucap"
      },
      "execution_count": null,
      "outputs": []
    },
    {
      "cell_type": "code",
      "source": [
        "df.printSchema()"
      ],
      "metadata": {
        "colab": {
          "base_uri": "https://localhost:8080/"
        },
        "id": "GFl_FZwDvMib",
        "outputId": "50a3f0c3-88a2-4976-ff4b-461bbc382507"
      },
      "execution_count": null,
      "outputs": [
        {
          "output_type": "stream",
          "name": "stdout",
          "text": [
            "root\n",
            " |-- Name: string (nullable = true)\n",
            " |-- age: integer (nullable = true)\n",
            " |-- Experience: integer (nullable = true)\n",
            " |-- Salary: integer (nullable = true)\n",
            "\n"
          ]
        }
      ]
    },
    {
      "cell_type": "markdown",
      "source": [
        "###Data extraction"
      ],
      "metadata": {
        "id": "Y870MeXuvbRN"
      }
    },
    {
      "cell_type": "markdown",
      "source": [
        "1] Select - slicing not works in spark so we use select to show the columns"
      ],
      "metadata": {
        "id": "Ws2tAWFKvkCk"
      }
    },
    {
      "cell_type": "code",
      "source": [
        "# show the exact required column\n",
        "df.select('name').show()"
      ],
      "metadata": {
        "colab": {
          "base_uri": "https://localhost:8080/"
        },
        "id": "EMMGcUn8vgbg",
        "outputId": "5c638ddb-06e2-46a2-d64d-097284c9b06b"
      },
      "execution_count": null,
      "outputs": [
        {
          "output_type": "stream",
          "name": "stdout",
          "text": [
            "+---------+\n",
            "|     name|\n",
            "+---------+\n",
            "|    Krish|\n",
            "|Sudhanshu|\n",
            "|    Sunny|\n",
            "|     Paul|\n",
            "|   Harsha|\n",
            "|  Shubham|\n",
            "|   Mahesh|\n",
            "|     NULL|\n",
            "|     NULL|\n",
            "+---------+\n",
            "\n"
          ]
        }
      ]
    },
    {
      "cell_type": "code",
      "source": [
        "df.select('name','age').show()"
      ],
      "metadata": {
        "colab": {
          "base_uri": "https://localhost:8080/"
        },
        "id": "jRp3e0mWv3We",
        "outputId": "32f0e5d4-d1d9-400d-ef8b-243226e3ecab"
      },
      "execution_count": null,
      "outputs": [
        {
          "output_type": "stream",
          "name": "stdout",
          "text": [
            "+---------+----+\n",
            "|     name| age|\n",
            "+---------+----+\n",
            "|    Krish|  31|\n",
            "|Sudhanshu|  30|\n",
            "|    Sunny|  29|\n",
            "|     Paul|  24|\n",
            "|   Harsha|  21|\n",
            "|  Shubham|  23|\n",
            "|   Mahesh|NULL|\n",
            "|     NULL|  34|\n",
            "|     NULL|  36|\n",
            "+---------+----+\n",
            "\n"
          ]
        }
      ]
    },
    {
      "cell_type": "markdown",
      "source": [
        "Common functions of spark and pandas are-\n",
        "1] head\n",
        "2] describe\n",
        "3] dtypes"
      ],
      "metadata": {
        "id": "JgC46ZSawJjk"
      }
    },
    {
      "cell_type": "code",
      "source": [
        "df.head(5)"
      ],
      "metadata": {
        "colab": {
          "base_uri": "https://localhost:8080/"
        },
        "id": "RQQkKnYBwHZR",
        "outputId": "5c92d24b-5e2f-46d9-c920-444d4d38dddc"
      },
      "execution_count": null,
      "outputs": [
        {
          "output_type": "execute_result",
          "data": {
            "text/plain": [
              "[Row(Name='Krish', age=31, Experience=10, Salary=30000),\n",
              " Row(Name='Sudhanshu', age=30, Experience=8, Salary=25000),\n",
              " Row(Name='Sunny', age=29, Experience=4, Salary=20000),\n",
              " Row(Name='Paul', age=24, Experience=3, Salary=20000),\n",
              " Row(Name='Harsha', age=21, Experience=1, Salary=15000)]"
            ]
          },
          "metadata": {},
          "execution_count": 14
        }
      ]
    },
    {
      "cell_type": "code",
      "source": [
        "df.tail(2)"
      ],
      "metadata": {
        "colab": {
          "base_uri": "https://localhost:8080/"
        },
        "id": "uhWg5iL-wnL8",
        "outputId": "1f6e4418-91ca-4ffc-d4e2-aaa2400a821e"
      },
      "execution_count": null,
      "outputs": [
        {
          "output_type": "execute_result",
          "data": {
            "text/plain": [
              "[Row(Name=None, age=34, Experience=10, Salary=38000),\n",
              " Row(Name=None, age=36, Experience=None, Salary=None)]"
            ]
          },
          "metadata": {},
          "execution_count": 15
        }
      ]
    },
    {
      "cell_type": "code",
      "source": [
        "df.describe()"
      ],
      "metadata": {
        "id": "pEfwvkN1wppu",
        "colab": {
          "base_uri": "https://localhost:8080/"
        },
        "outputId": "3cfb63f0-8622-455e-fbbc-45d363ab7ef4"
      },
      "execution_count": null,
      "outputs": [
        {
          "output_type": "execute_result",
          "data": {
            "text/plain": [
              "DataFrame[summary: string, Name: string, age: string, Experience: string, Salary: string]"
            ]
          },
          "metadata": {},
          "execution_count": 16
        }
      ]
    },
    {
      "cell_type": "code",
      "source": [
        "df.dtypes"
      ],
      "metadata": {
        "colab": {
          "base_uri": "https://localhost:8080/"
        },
        "id": "XUt3NRECLSuw",
        "outputId": "4af38056-f519-4b33-9178-66f2ac30eed3"
      },
      "execution_count": null,
      "outputs": [
        {
          "output_type": "execute_result",
          "data": {
            "text/plain": [
              "[('Name', 'string'), ('age', 'int'), ('Experience', 'int'), ('Salary', 'int')]"
            ]
          },
          "metadata": {},
          "execution_count": 17
        }
      ]
    },
    {
      "cell_type": "markdown",
      "source": [
        "###Data manipulation"
      ],
      "metadata": {
        "id": "yuhlZhvzLUuM"
      }
    },
    {
      "cell_type": "code",
      "source": [
        "# Add column\n",
        "df = df.withColumn('salary', df['age']*200000)\n",
        "df.show()"
      ],
      "metadata": {
        "colab": {
          "base_uri": "https://localhost:8080/"
        },
        "id": "I8MyQaCWLbwR",
        "outputId": "63686bdb-3824-458a-daea-ee93a73c80d7"
      },
      "execution_count": null,
      "outputs": [
        {
          "output_type": "stream",
          "name": "stdout",
          "text": [
            "+---------+----+----------+-------+\n",
            "|     Name| age|Experience| salary|\n",
            "+---------+----+----------+-------+\n",
            "|    Krish|  31|        10|6200000|\n",
            "|Sudhanshu|  30|         8|6000000|\n",
            "|    Sunny|  29|         4|5800000|\n",
            "|     Paul|  24|         3|4800000|\n",
            "|   Harsha|  21|         1|4200000|\n",
            "|  Shubham|  23|         2|4600000|\n",
            "|   Mahesh|NULL|      NULL|   NULL|\n",
            "|     NULL|  34|        10|6800000|\n",
            "|     NULL|  36|      NULL|7200000|\n",
            "+---------+----+----------+-------+\n",
            "\n"
          ]
        }
      ]
    },
    {
      "cell_type": "code",
      "source": [
        "# rename columns\n",
        "# df = df.withColumnRenamed('salary','Income in $k')\n",
        "df.show()"
      ],
      "metadata": {
        "colab": {
          "base_uri": "https://localhost:8080/"
        },
        "id": "0ngfi3wiM-lD",
        "outputId": "bca21acf-f3ca-4301-a954-bf737d66c31d"
      },
      "execution_count": null,
      "outputs": [
        {
          "output_type": "stream",
          "name": "stdout",
          "text": [
            "+---------+----+----------+-------+\n",
            "|     Name| age|Experience| salary|\n",
            "+---------+----+----------+-------+\n",
            "|    Krish|  31|        10|6200000|\n",
            "|Sudhanshu|  30|         8|6000000|\n",
            "|    Sunny|  29|         4|5800000|\n",
            "|     Paul|  24|         3|4800000|\n",
            "|   Harsha|  21|         1|4200000|\n",
            "|  Shubham|  23|         2|4600000|\n",
            "|   Mahesh|NULL|      NULL|   NULL|\n",
            "|     NULL|  34|        10|6800000|\n",
            "|     NULL|  36|      NULL|7200000|\n",
            "+---------+----+----------+-------+\n",
            "\n"
          ]
        }
      ]
    },
    {
      "cell_type": "code",
      "source": [
        "# drop column\n",
        "# df = df.drop('Income in $k')\n",
        "df.show()"
      ],
      "metadata": {
        "colab": {
          "base_uri": "https://localhost:8080/"
        },
        "id": "_5HvVduUMEid",
        "outputId": "f2f60af2-83be-4391-928d-337e8af927e6"
      },
      "execution_count": null,
      "outputs": [
        {
          "output_type": "stream",
          "name": "stdout",
          "text": [
            "+---------+----+----------+-------+\n",
            "|     Name| age|Experience| salary|\n",
            "+---------+----+----------+-------+\n",
            "|    Krish|  31|        10|6200000|\n",
            "|Sudhanshu|  30|         8|6000000|\n",
            "|    Sunny|  29|         4|5800000|\n",
            "|     Paul|  24|         3|4800000|\n",
            "|   Harsha|  21|         1|4200000|\n",
            "|  Shubham|  23|         2|4600000|\n",
            "|   Mahesh|NULL|      NULL|   NULL|\n",
            "|     NULL|  34|        10|6800000|\n",
            "|     NULL|  36|      NULL|7200000|\n",
            "+---------+----+----------+-------+\n",
            "\n"
          ]
        }
      ]
    },
    {
      "cell_type": "markdown",
      "source": [
        "###Handling Missing values"
      ],
      "metadata": {
        "id": "riIOD5htOIZs"
      }
    },
    {
      "cell_type": "markdown",
      "source": [
        "Drop"
      ],
      "metadata": {
        "id": "lTvmNNcSPWwP"
      }
    },
    {
      "cell_type": "code",
      "source": [
        "# drop null values\n",
        "df = df.na.drop()"
      ],
      "metadata": {
        "id": "bx_6IQ9YOHor"
      },
      "execution_count": null,
      "outputs": []
    },
    {
      "cell_type": "code",
      "source": [
        "df = df.na.drop(how = 'all' , thresh = 5)"
      ],
      "metadata": {
        "id": "ln7XZAsEO26r"
      },
      "execution_count": null,
      "outputs": []
    },
    {
      "cell_type": "markdown",
      "source": [
        "Filling the missing values"
      ],
      "metadata": {
        "id": "Sbv1ma-NPYvT"
      }
    },
    {
      "cell_type": "code",
      "source": [
        "df = df.na.fill('100',['age'])"
      ],
      "metadata": {
        "id": "nyG6ufSoPGXT"
      },
      "execution_count": null,
      "outputs": []
    },
    {
      "cell_type": "code",
      "source": [
        "# fill missing values by mean of that column\n",
        "from pyspark.ml.feature import Imputer\n",
        "imputer = Imputer(inputCols = ['age','Experience'], outputCols = ['{}_imputed'.format(c) for c in ['age','Experience']]).setStrategy('mean')"
      ],
      "metadata": {
        "id": "NKG_fWafWiNn"
      },
      "execution_count": null,
      "outputs": []
    },
    {
      "cell_type": "code",
      "source": [
        "#imputer.fit(df).transform(df).show()\n",
        "df.show()"
      ],
      "metadata": {
        "id": "DO5pL9NLXRMN",
        "colab": {
          "base_uri": "https://localhost:8080/"
        },
        "outputId": "c08c9bda-041c-424e-b1d9-439286f2f457"
      },
      "execution_count": null,
      "outputs": [
        {
          "output_type": "stream",
          "name": "stdout",
          "text": [
            "+----+---+----------+------+\n",
            "|Name|age|Experience|salary|\n",
            "+----+---+----------+------+\n",
            "+----+---+----------+------+\n",
            "\n"
          ]
        }
      ]
    },
    {
      "cell_type": "markdown",
      "source": [
        "##Filter Operations"
      ],
      "metadata": {
        "id": "pfe3v8t0aICO"
      }
    },
    {
      "cell_type": "code",
      "source": [
        "# Filter\n",
        "df.filter((df['salary']>20000) & (df['salary']<=55000)).show()"
      ],
      "metadata": {
        "id": "5PFkqu49aNw7",
        "colab": {
          "base_uri": "https://localhost:8080/"
        },
        "outputId": "5656bb41-3597-4b8f-dcb1-bb00e2b17651"
      },
      "execution_count": null,
      "outputs": [
        {
          "output_type": "stream",
          "name": "stdout",
          "text": [
            "+----+---+----------+------+\n",
            "|Name|age|Experience|salary|\n",
            "+----+---+----------+------+\n",
            "+----+---+----------+------+\n",
            "\n"
          ]
        }
      ]
    },
    {
      "cell_type": "markdown",
      "source": [
        "## Group by and Aggregate operations"
      ],
      "metadata": {
        "id": "wQtImY8ViONE"
      }
    },
    {
      "cell_type": "code",
      "source": [
        "df = spark.read.csv('/content/drive/MyDrive/Py Spark/test3.csv',header=True,inferSchema=True)"
      ],
      "metadata": {
        "id": "avmUE1maiT_5"
      },
      "execution_count": null,
      "outputs": []
    },
    {
      "cell_type": "code",
      "source": [
        "df.show()"
      ],
      "metadata": {
        "colab": {
          "base_uri": "https://localhost:8080/"
        },
        "id": "z6TGzhkPivdz",
        "outputId": "a1c32ef6-76b0-44b7-f484-9ea07622ddda"
      },
      "execution_count": null,
      "outputs": [
        {
          "output_type": "stream",
          "name": "stdout",
          "text": [
            "+---------+------------+------+\n",
            "|     Name| Departments|salary|\n",
            "+---------+------------+------+\n",
            "|    Krish|Data Science| 10000|\n",
            "|    Krish|         IOT|  5000|\n",
            "|   Mahesh|    Big Data|  4000|\n",
            "|    Krish|    Big Data|  4000|\n",
            "|   Mahesh|Data Science|  3000|\n",
            "|Sudhanshu|Data Science| 20000|\n",
            "|Sudhanshu|         IOT| 10000|\n",
            "|Sudhanshu|    Big Data|  5000|\n",
            "|    Sunny|Data Science| 10000|\n",
            "|    Sunny|    Big Data|  2000|\n",
            "+---------+------------+------+\n",
            "\n"
          ]
        }
      ]
    },
    {
      "cell_type": "code",
      "source": [
        "# groupby\n",
        "# get employee with max salary among all\n",
        "df.groupby('Name').sum().show()"
      ],
      "metadata": {
        "colab": {
          "base_uri": "https://localhost:8080/"
        },
        "id": "Z5fEBYo-_3P-",
        "outputId": "87401181-49c8-4bfd-e072-522fc628fada"
      },
      "execution_count": null,
      "outputs": [
        {
          "output_type": "stream",
          "name": "stdout",
          "text": [
            "+---------+-----------+\n",
            "|     Name|sum(salary)|\n",
            "+---------+-----------+\n",
            "|Sudhanshu|      35000|\n",
            "|    Sunny|      12000|\n",
            "|    Krish|      19000|\n",
            "|   Mahesh|       7000|\n",
            "+---------+-----------+\n",
            "\n"
          ]
        }
      ]
    },
    {
      "cell_type": "code",
      "source": [
        "df.agg({'salary':'sum'}).show()"
      ],
      "metadata": {
        "colab": {
          "base_uri": "https://localhost:8080/"
        },
        "id": "mNNKMFoHAwAT",
        "outputId": "ce154f03-fe43-4521-8782-5ccae5f76d78"
      },
      "execution_count": null,
      "outputs": [
        {
          "output_type": "stream",
          "name": "stdout",
          "text": [
            "+-----------+\n",
            "|sum(salary)|\n",
            "+-----------+\n",
            "|      73000|\n",
            "+-----------+\n",
            "\n"
          ]
        }
      ]
    }
  ],
  "metadata": {
    "colab": {
      "provenance": [],
      "authorship_tag": "ABX9TyOt9Up8FOlHe0JDwpIEYBKA",
      "include_colab_link": true
    },
    "kernelspec": {
      "display_name": "Python 3",
      "name": "python3"
    },
    "language_info": {
      "name": "python"
    }
  },
  "nbformat": 4,
  "nbformat_minor": 0
}