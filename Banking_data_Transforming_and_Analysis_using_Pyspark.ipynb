{
  "cells": [
    {
      "cell_type": "markdown",
      "metadata": {
        "id": "view-in-github",
        "colab_type": "text"
      },
      "source": [
        "<a href=\"https://colab.research.google.com/github/Rohit-Saswadkar/Data-Manipulation-using-Pyspark/blob/main/Banking_data_Transforming_and_Analysis_using_Pyspark.ipynb\" target=\"_parent\"><img src=\"https://colab.research.google.com/assets/colab-badge.svg\" alt=\"Open In Colab\"/></a>"
      ]
    },
    {
      "cell_type": "markdown",
      "metadata": {
        "id": "7rnfI6rzCGPN"
      },
      "source": [
        "#**Let's get start**"
      ]
    },
    {
      "cell_type": "code",
      "execution_count": 1,
      "metadata": {
        "colab": {
          "base_uri": "https://localhost:8080/"
        },
        "id": "2NeckXHagFa_",
        "outputId": "c5d02b23-bf92-47c8-e0cf-f4a148a2fd7a"
      },
      "outputs": [
        {
          "output_type": "stream",
          "name": "stdout",
          "text": [
            "Mounted at /content/drive\n"
          ]
        }
      ],
      "source": [
        "from google.colab import drive\n",
        "drive.mount('/content/drive')"
      ]
    },
    {
      "cell_type": "markdown",
      "metadata": {
        "id": "MRZHDvWNio-t"
      },
      "source": [
        "**Install pyspark**\n"
      ]
    },
    {
      "cell_type": "code",
      "execution_count": 2,
      "metadata": {
        "colab": {
          "base_uri": "https://localhost:8080/"
        },
        "id": "4G4OE4fWjA8V",
        "outputId": "f233cdb9-0fdf-48b1-fee0-4f6bde3c4f21"
      },
      "outputs": [
        {
          "output_type": "stream",
          "name": "stdout",
          "text": [
            "Collecting pyspark\n",
            "  Downloading pyspark-3.5.1.tar.gz (317.0 MB)\n",
            "\u001b[2K     \u001b[90m━━━━━━━━━━━━━━━━━━━━━━━━━━━━━━━━━━━━━━━━\u001b[0m \u001b[32m317.0/317.0 MB\u001b[0m \u001b[31m4.4 MB/s\u001b[0m eta \u001b[36m0:00:00\u001b[0m\n",
            "\u001b[?25h  Preparing metadata (setup.py) ... \u001b[?25l\u001b[?25hdone\n",
            "Requirement already satisfied: py4j==0.10.9.7 in /usr/local/lib/python3.10/dist-packages (from pyspark) (0.10.9.7)\n",
            "Building wheels for collected packages: pyspark\n",
            "  Building wheel for pyspark (setup.py) ... \u001b[?25l\u001b[?25hdone\n",
            "  Created wheel for pyspark: filename=pyspark-3.5.1-py2.py3-none-any.whl size=317488493 sha256=1556bd4704bfd5fab48824fa44579024a5d709dd34f1a576baf72578dfcc5c42\n",
            "  Stored in directory: /root/.cache/pip/wheels/80/1d/60/2c256ed38dddce2fdd93be545214a63e02fbd8d74fb0b7f3a6\n",
            "Successfully built pyspark\n",
            "Installing collected packages: pyspark\n",
            "Successfully installed pyspark-3.5.1\n",
            "Requirement already satisfied: openpyxl in /usr/local/lib/python3.10/dist-packages (3.1.5)\n",
            "Requirement already satisfied: et-xmlfile in /usr/local/lib/python3.10/dist-packages (from openpyxl) (1.1.0)\n"
          ]
        }
      ],
      "source": [
        "!pip install pyspark\n",
        "!pip install openpyxl"
      ]
    },
    {
      "cell_type": "code",
      "execution_count": 3,
      "metadata": {
        "id": "7lNr5zh8i_kv"
      },
      "outputs": [],
      "source": [
        "# set the spark session\n",
        "from pyspark.sql import SparkSession\n",
        "\n",
        "sp = SparkSession.builder \\\n",
        "    .appName(\"Banking_Analysis_using_Pyspark\") \\\n",
        "    .getOrCreate()"
      ]
    },
    {
      "cell_type": "code",
      "execution_count": 4,
      "metadata": {
        "id": "8eO4qOEp7mN6"
      },
      "outputs": [],
      "source": [
        "# Configure the SparkSession\n",
        "sp.conf.set(\"spark.sql.shuffle.partitions\", \"50\")"
      ]
    },
    {
      "cell_type": "code",
      "execution_count": 5,
      "metadata": {
        "id": "kMQCCx6F7mRp"
      },
      "outputs": [],
      "source": [
        "# Configure the logging settings\n",
        "import logging\n",
        "logging.basicConfig(level=logging.INFO)\n",
        "logger = logging.getLogger(__name__)\n"
      ]
    },
    {
      "cell_type": "markdown",
      "source": [
        "##**Loading Dataset**"
      ],
      "metadata": {
        "id": "XrUajsgttogr"
      }
    },
    {
      "cell_type": "code",
      "execution_count": 6,
      "metadata": {
        "id": "6K58FTjekWw_"
      },
      "outputs": [],
      "source": [
        "# load df paths\n",
        "path1 = '/content/drive/MyDrive/Py Spark/Banking Project/BankingDataset_1.csv'\n",
        "path2 = '/content/drive/MyDrive/Py Spark/Banking Project/BankingDataset_2.csv'"
      ]
    },
    {
      "cell_type": "code",
      "execution_count": 7,
      "metadata": {
        "id": "q7gy7NQ0gMsb"
      },
      "outputs": [],
      "source": [
        "df1 = sp.read.csv(path1, header=True, inferSchema=True, sep=\",\", ignoreLeadingWhiteSpace=True, ignoreTrailingWhiteSpace=True)\n",
        "df2 = sp.read.csv(path2, header=True, inferSchema=True, sep=\",\", ignoreLeadingWhiteSpace=True, ignoreTrailingWhiteSpace=True)"
      ]
    },
    {
      "cell_type": "code",
      "execution_count": 8,
      "metadata": {
        "colab": {
          "base_uri": "https://localhost:8080/"
        },
        "id": "6fH8rrGGkQgg",
        "outputId": "a755bfec-bc51-4609-c907-c2f15feab821"
      },
      "outputs": [
        {
          "output_type": "stream",
          "name": "stdout",
          "text": [
            "root\n",
            " |-- TransactionID: integer (nullable = true)\n",
            " |-- AccountNumber: integer (nullable = true)\n",
            " |-- TransactionType: string (nullable = true)\n",
            " |-- Amount: double (nullable = true)\n",
            " |-- TransactionDate: timestamp (nullable = true)\n",
            " |-- BranchCode: integer (nullable = true)\n",
            " |-- Currency: string (nullable = true)\n",
            " |-- TransactionTime: integer (nullable = true)\n",
            " |-- _c8: string (nullable = true)\n",
            " |-- _c9: string (nullable = true)\n",
            "\n",
            "root\n",
            " |-- AccountNumber: integer (nullable = true)\n",
            " |-- AccountHolder: string (nullable = true)\n",
            " |-- AccountType: string (nullable = true)\n",
            " |-- Balance: double (nullable = true)\n",
            " |-- InterestRate: double (nullable = true)\n",
            " |-- CreditScore: integer (nullable = true)\n",
            " |-- OpeningDate: string (nullable = true)\n",
            " |-- LoanAmount: double (nullable = true)\n",
            " |-- AccountHolderDetails: string (nullable = true)\n",
            "\n"
          ]
        }
      ],
      "source": [
        "# check schema of the df's\n",
        "df1.printSchema()\n",
        "df2.printSchema()"
      ]
    },
    {
      "cell_type": "code",
      "execution_count": 9,
      "metadata": {
        "id": "2fUqAzMkkQi5"
      },
      "outputs": [],
      "source": [
        "# drop unnecessary columns\n",
        "columns_to_drop = ['_c9', '_c10', '_c11', '_c12', '_c13', '_c14']\n",
        "df2 = df2.drop(*columns_to_drop)"
      ]
    },
    {
      "cell_type": "code",
      "execution_count": 10,
      "metadata": {
        "id": "Qhry7mVtCbOV"
      },
      "outputs": [],
      "source": [
        "columns_to_drop = ['_C8','_C9']\n",
        "\n",
        "df1 = df1.drop(* columns_to_drop)"
      ]
    },
    {
      "cell_type": "markdown",
      "source": [
        "##**Initial data exploration**"
      ],
      "metadata": {
        "id": "NtxW0dETBCWS"
      }
    },
    {
      "cell_type": "code",
      "execution_count": 11,
      "metadata": {
        "colab": {
          "base_uri": "https://localhost:8080/"
        },
        "id": "pRu0p1kskQmy",
        "outputId": "294d5e3d-85f4-4642-af9b-479bce504eba"
      },
      "outputs": [
        {
          "output_type": "stream",
          "name": "stdout",
          "text": [
            "+-------+-----------------+------------------+---------------+------------------+------------------+--------+-----------------+\n",
            "|summary|    TransactionID|     AccountNumber|TransactionType|            Amount|        BranchCode|Currency|  TransactionTime|\n",
            "+-------+-----------------+------------------+---------------+------------------+------------------+--------+-----------------+\n",
            "|  count|             1000|              1000|            940|               940|              1000|    1000|             1000|\n",
            "|   mean|            500.5|        560160.735|           NULL| 5063.896222674368|           253.436|  -999.0|           11.863|\n",
            "| stddev|288.8194360957494|260670.28320861366|           NULL|2847.0992164759687|144.11454092111913|     0.0|6.515726029053529|\n",
            "|    min|                1|            100268|        Deposit|        138.777986|                 1|    *^$$|                1|\n",
            "|    max|             1000|            996071|     Withdrawal|        9987.02423|               499|     USD|               23|\n",
            "+-------+-----------------+------------------+---------------+------------------+------------------+--------+-----------------+\n",
            "\n",
            "+-------+------------------+----------------+-----------+------------------+------------------+------------------+-------------+------------------+--------------------+\n",
            "|summary|     AccountNumber|   AccountHolder|AccountType|           Balance|      InterestRate|       CreditScore|  OpeningDate|        LoanAmount|AccountHolderDetails|\n",
            "+-------+------------------+----------------+-----------+------------------+------------------+------------------+-------------+------------------+--------------------+\n",
            "|  count|               689|             689|        689|               689|               689|               689|          689|               689|                 689|\n",
            "|   mean| 568865.9521044993|            NULL|       NULL|25506.558982564264| 2.684595698387517| 574.7837445573294|         NULL| 26777.69591677649|                NULL|\n",
            "| stddev|259730.42492620132|            NULL|       NULL| 14198.13438008927|1.2893985663528977|158.43350513489872|         NULL|13043.520283522226|                NULL|\n",
            "|    min|            100268|Barbara Anderson|   Checking|       50.97685158|       0.502032369|               300|1/1/2020 0:00|        5221.46154|Sector: Education...|\n",
            "|    max|            998496|  William Wilson|    Savings|       49962.61851|       4.993416626|               849|9/9/2021 0:00|       49898.45567|Sector: Technolog...|\n",
            "+-------+------------------+----------------+-----------+------------------+------------------+------------------+-------------+------------------+--------------------+\n",
            "\n"
          ]
        }
      ],
      "source": [
        "df1.describe().show() # check the data\n",
        "df2.describe().show()"
      ]
    },
    {
      "cell_type": "code",
      "source": [
        "df1.dtypes # data types of columns"
      ],
      "metadata": {
        "colab": {
          "base_uri": "https://localhost:8080/"
        },
        "id": "vudja8bnkcBH",
        "outputId": "5e6a5d56-1bab-4999-bbcf-7201c73c16cc"
      },
      "execution_count": 12,
      "outputs": [
        {
          "output_type": "execute_result",
          "data": {
            "text/plain": [
              "[('TransactionID', 'int'),\n",
              " ('AccountNumber', 'int'),\n",
              " ('TransactionType', 'string'),\n",
              " ('Amount', 'double'),\n",
              " ('TransactionDate', 'timestamp'),\n",
              " ('BranchCode', 'int'),\n",
              " ('Currency', 'string'),\n",
              " ('TransactionTime', 'int')]"
            ]
          },
          "metadata": {},
          "execution_count": 12
        }
      ]
    },
    {
      "cell_type": "code",
      "source": [
        "df2.dtypes"
      ],
      "metadata": {
        "colab": {
          "base_uri": "https://localhost:8080/"
        },
        "id": "Q0D8marCkdmM",
        "outputId": "14d10129-6d22-4c21-a6d7-93ff59eb2ade"
      },
      "execution_count": 13,
      "outputs": [
        {
          "output_type": "execute_result",
          "data": {
            "text/plain": [
              "[('AccountNumber', 'int'),\n",
              " ('AccountHolder', 'string'),\n",
              " ('AccountType', 'string'),\n",
              " ('Balance', 'double'),\n",
              " ('InterestRate', 'double'),\n",
              " ('CreditScore', 'int'),\n",
              " ('OpeningDate', 'string'),\n",
              " ('LoanAmount', 'double'),\n",
              " ('AccountHolderDetails', 'string')]"
            ]
          },
          "metadata": {},
          "execution_count": 13
        }
      ]
    },
    {
      "cell_type": "code",
      "source": [
        "df1 = df1.dropDuplicates() # drop duplicates to enhance performance\n",
        "df2 = df2.dropDuplicates()"
      ],
      "metadata": {
        "id": "PfaJtzXkleCz"
      },
      "execution_count": 14,
      "outputs": []
    },
    {
      "cell_type": "code",
      "source": [
        "# check unique counts of each column of DF1\n",
        "unique_counts = {}\n",
        "for col_name in df1.columns:\n",
        "    unique_count = df1.select(col_name).distinct().count()\n",
        "    unique_counts[col_name] = unique_count\n",
        "\n",
        "# Display the unique counts\n",
        "for col_name, unique_count in unique_counts.items():\n",
        "    print(f\"Column {col_name} has {unique_count} unique values\")\n"
      ],
      "metadata": {
        "colab": {
          "base_uri": "https://localhost:8080/"
        },
        "id": "QoPj23n1qNuO",
        "outputId": "b2201153-5b77-404c-e8d8-169af8befa6b"
      },
      "execution_count": 15,
      "outputs": [
        {
          "output_type": "stream",
          "name": "stdout",
          "text": [
            "Column TransactionID has 1000 unique values\n",
            "Column AccountNumber has 558 unique values\n",
            "Column TransactionType has 5 unique values\n",
            "Column Amount has 941 unique values\n",
            "Column TransactionDate has 1000 unique values\n",
            "Column BranchCode has 431 unique values\n",
            "Column Currency has 7 unique values\n",
            "Column TransactionTime has 23 unique values\n"
          ]
        }
      ]
    },
    {
      "cell_type": "code",
      "source": [
        "# check unique counts of each column of DF2\n",
        "unique_counts = {}\n",
        "for col_name in df2.columns:\n",
        "    unique_count = df2.select(col_name).distinct().count()\n",
        "    unique_counts[col_name] = unique_count\n",
        "\n",
        "# Display the unique counts\n",
        "for col_name, unique_count in unique_counts.items():\n",
        "    print(f\"Column {col_name} has {unique_count} unique values\")\n"
      ],
      "metadata": {
        "colab": {
          "base_uri": "https://localhost:8080/"
        },
        "id": "UypLvqCmqO2N",
        "outputId": "f5a0bc3b-acae-4723-c091-4ecc1f17a414"
      },
      "execution_count": 16,
      "outputs": [
        {
          "output_type": "stream",
          "name": "stdout",
          "text": [
            "Column AccountNumber has 689 unique values\n",
            "Column AccountHolder has 336 unique values\n",
            "Column AccountType has 4 unique values\n",
            "Column Balance has 689 unique values\n",
            "Column InterestRate has 689 unique values\n",
            "Column CreditScore has 389 unique values\n",
            "Column OpeningDate has 689 unique values\n",
            "Column LoanAmount has 689 unique values\n",
            "Column AccountHolderDetails has 377 unique values\n"
          ]
        }
      ]
    },
    {
      "cell_type": "markdown",
      "source": [
        "##**Data Cleaning and Preprocessing**"
      ],
      "metadata": {
        "id": "2CeKKnLOjxuM"
      }
    },
    {
      "cell_type": "markdown",
      "source": [
        "###**Check ulll values in columns**"
      ],
      "metadata": {
        "id": "8A4slZHbopi5"
      }
    },
    {
      "cell_type": "code",
      "source": [
        "from pyspark.sql.functions import col, when, count, isnull\n",
        "\n",
        "# Show columns with missing values for df1\n",
        "df1.select([count(when(isnull(c), c)).alias(c) for c in df1.columns]).show()\n",
        "\n",
        "# Show columns with missing values for df2\n",
        "df2.select([count(when(isnull(c), c)).alias(c) for c in df2.columns]).show()"
      ],
      "metadata": {
        "colab": {
          "base_uri": "https://localhost:8080/"
        },
        "id": "LW0kq-Wnjxd9",
        "outputId": "3a93f82e-60c6-43c4-d799-ce21a4ce73f7"
      },
      "execution_count": 45,
      "outputs": [
        {
          "output_type": "stream",
          "name": "stdout",
          "text": [
            "+-------------+-------------+---------------+------+---------------+----------+--------+---------------+\n",
            "|TransactionID|AccountNumber|TransactionType|Amount|TransactionDate|BranchCode|Currency|TransactionTime|\n",
            "+-------------+-------------+---------------+------+---------------+----------+--------+---------------+\n",
            "|            0|            0|             60|    60|              0|         0|       0|              0|\n",
            "+-------------+-------------+---------------+------+---------------+----------+--------+---------------+\n",
            "\n",
            "+-------------+-------------+-----------+-------+------------+-----------+-----------+----------+--------------------+\n",
            "|AccountNumber|AccountHolder|AccountType|Balance|InterestRate|CreditScore|OpeningDate|LoanAmount|AccountHolderDetails|\n",
            "+-------------+-------------+-----------+-------+------------+-----------+-----------+----------+--------------------+\n",
            "|            0|            0|          0|      0|           0|          0|          0|         0|                   0|\n",
            "+-------------+-------------+-----------+-------+------------+-----------+-----------+----------+--------------------+\n",
            "\n"
          ]
        }
      ]
    },
    {
      "cell_type": "markdown",
      "source": [
        "###**A] Null value imputation**"
      ],
      "metadata": {
        "id": "B6A7-FVQm_eC"
      }
    },
    {
      "cell_type": "markdown",
      "source": [
        "**1) Identifying Numeric and Categorical Columns in DF! and replace null with them**"
      ],
      "metadata": {
        "id": "RR3tNAh3oliP"
      }
    },
    {
      "cell_type": "code",
      "source": [
        "# separating the categorical and numerical columns by their datatype\n",
        "from pyspark.sql.types import IntegerType, DoubleType, StringType\n",
        "\n",
        "numeric_cols = [field.name for field in df1.schema.fields if isinstance(field.dataType, (IntegerType, DoubleType))]\n",
        "categorical_cols = [field.name for field in df1.schema.fields if isinstance(field.dataType, StringType)]\n"
      ],
      "metadata": {
        "id": "A4cfQRorjiD8"
      },
      "execution_count": 18,
      "outputs": []
    },
    {
      "cell_type": "code",
      "source": [
        "# calculating median for numerical columns\n",
        "numeric_medians = {}\n",
        "for col in numeric_cols:\n",
        "    median = df1.approxQuantile(col, [0.5], 0.01)[0]\n",
        "    numeric_medians[col] = median\n"
      ],
      "metadata": {
        "id": "IY56giu3nC_O"
      },
      "execution_count": 19,
      "outputs": []
    },
    {
      "cell_type": "code",
      "source": [
        "# calculating mode for categorical columns\n",
        "from pyspark.sql.functions import col, count, desc\n",
        "\n",
        "categorical_modes = {}\n",
        "for col_name in categorical_cols:\n",
        "    mode_df = df1.groupBy(col_name).count().orderBy(desc(\"count\")).first()\n",
        "    if mode_df:\n",
        "        categorical_modes[col_name] = mode_df[col_name]\n"
      ],
      "metadata": {
        "id": "1sgAgIq1nFqV"
      },
      "execution_count": 20,
      "outputs": []
    },
    {
      "cell_type": "code",
      "source": [
        "# replaced null with median and mode repectively\n",
        "df1_filled = df1.fillna(numeric_medians)\n",
        "df1_filled = df1_filled.fillna(categorical_modes)\n"
      ],
      "metadata": {
        "id": "hov2XKWdnMWl"
      },
      "execution_count": 21,
      "outputs": []
    },
    {
      "cell_type": "code",
      "source": [
        "# Show columns with missing values for df1\n",
        "df1_filled.select([count(when(isnull(c), c)).alias(c) for c in df1.columns]).show()"
      ],
      "metadata": {
        "colab": {
          "base_uri": "https://localhost:8080/"
        },
        "id": "wymmVxk7nTiT",
        "outputId": "e17014a3-f742-44c5-d8cc-28983394763c"
      },
      "execution_count": 22,
      "outputs": [
        {
          "output_type": "stream",
          "name": "stdout",
          "text": [
            "+-------------+-------------+---------------+------+---------------+----------+--------+---------------+\n",
            "|TransactionID|AccountNumber|TransactionType|Amount|TransactionDate|BranchCode|Currency|TransactionTime|\n",
            "+-------------+-------------+---------------+------+---------------+----------+--------+---------------+\n",
            "|            0|            0|              0|     0|              0|         0|       0|              0|\n",
            "+-------------+-------------+---------------+------+---------------+----------+--------+---------------+\n",
            "\n"
          ]
        }
      ]
    },
    {
      "cell_type": "markdown",
      "source": [
        "**B] Creating new Df by merging df1 and df2 using AccountNumber**"
      ],
      "metadata": {
        "id": "px_vryFMtzxW"
      }
    },
    {
      "cell_type": "code",
      "source": [
        "df = df1_filled.join( df2, on='AccountNumber', how='inner')"
      ],
      "metadata": {
        "id": "lTMqV9jEt-nc"
      },
      "execution_count": 23,
      "outputs": []
    },
    {
      "cell_type": "code",
      "source": [
        "df.show()"
      ],
      "metadata": {
        "colab": {
          "base_uri": "https://localhost:8080/"
        },
        "id": "0V0ei4j-uPq3",
        "outputId": "a9219107-538a-4148-fe7c-65c725f197f6"
      },
      "execution_count": 24,
      "outputs": [
        {
          "output_type": "stream",
          "name": "stdout",
          "text": [
            "+-------------+-------------+---------------+-----------+-------------------+----------+--------+---------------+-----------------+-----------+-----------+------------+-----------+---------------+-----------+--------------------+\n",
            "|AccountNumber|TransactionID|TransactionType|     Amount|    TransactionDate|BranchCode|Currency|TransactionTime|    AccountHolder|AccountType|    Balance|InterestRate|CreditScore|    OpeningDate| LoanAmount|AccountHolderDetails|\n",
            "+-------------+-------------+---------------+-----------+-------------------+----------+--------+---------------+-----------------+-----------+-----------+------------+-----------+---------------+-----------+--------------------+\n",
            "|       334892|           42|     Withdrawal| 5037.65665|2023-02-11 00:00:00|       342|     USD|              9|Patricia Gonzalez|       Loan|25577.87469|  2.00892616|        847| 2/11/2020 0:00|39920.51583|Sector: Finance, ...|\n",
            "|       334892|          595|       Transfer|6418.314831|2024-08-17 00:00:00|       477|     GBP|              7|Patricia Gonzalez|       Loan|25577.87469|  2.00892616|        847| 2/11/2020 0:00|39920.51583|Sector: Finance, ...|\n",
            "|       100268|          648|        Payment|5683.898404|2024-10-09 00:00:00|        87|     USD|             23|Patricia Martinez|   Checking|1295.106872| 4.477121503|        349|  4/4/2020 0:00|25554.61654|Sector: Retail, R...|\n",
            "|       100268|           95|     Withdrawal| 7024.74983|2023-04-05 00:00:00|        95|     EUR|              4|Patricia Martinez|   Checking|1295.106872| 4.477121503|        349|  4/4/2020 0:00|25554.61654|Sector: Retail, R...|\n",
            "|       653358|          755|        Payment|9803.079051|2025-01-24 00:00:00|       135|     JPY|             21|    Karen Jackson|    Savings|45276.77905| 2.620943352|        826| 7/20/2020 0:00|17210.05755|Sector: Education...|\n",
            "|       653358|          202|        Deposit|7012.146629|2023-07-21 00:00:00|       466|     JPY|             22|    Karen Jackson|    Savings|45276.77905| 2.620943352|        826| 7/20/2020 0:00|17210.05755|Sector: Education...|\n",
            "|       729216|          845|     Withdrawal|6823.142653|2025-04-24 00:00:00|        51|     EUR|             16|  Joseph Gonzalez|   Checking|49233.70977| 0.583985163|        626|10/18/2020 0:00|19332.13006|Sector: Finance, ...|\n",
            "|       729216|          292|        Deposit|8833.059751|2023-10-19 00:00:00|        33|     USD|              2|  Joseph Gonzalez|   Checking|49233.70977| 0.583985163|        626|10/18/2020 0:00|19332.13006|Sector: Finance, ...|\n",
            "|       685995|          848|        Deposit| 5037.65665|2025-04-27 00:00:00|       325|     GBP|              5|   David Anderson|     Credit|836.1600214| 4.160964602|        801|10/21/2020 0:00|13491.18598|Sector: Healthcar...|\n",
            "|       685995|          295|       Transfer| 7108.84192|2023-10-22 00:00:00|       100|    *^$$|              4|   David Anderson|     Credit|836.1600214| 4.160964602|        801|10/21/2020 0:00|13491.18598|Sector: Healthcar...|\n",
            "|       546973|          874|     Withdrawal|7241.283495|2025-05-23 00:00:00|       109|     USD|             17|    Barbara Jones|    Savings|48511.03752| 3.004145891|        666|11/16/2020 0:00|22869.98431|Sector: Education...|\n",
            "|       546973|          321|       Transfer|7108.071757|2023-11-17 00:00:00|       492|     JPY|             15|    Barbara Jones|    Savings|48511.03752| 3.004145891|        666|11/16/2020 0:00|22869.98431|Sector: Education...|\n",
            "|       468000|          908|       Transfer|8403.909624|2025-06-26 00:00:00|       365|     EUR|             23|      Linda Lopez|       Loan|50.97685158| 1.136609157|        522|12/20/2020 0:00|38667.40191|Sector: Technolog...|\n",
            "|       468000|          355|       Transfer| 145.692845|2023-12-21 00:00:00|       371|     JPY|              4|      Linda Lopez|       Loan|50.97685158| 1.136609157|        522|12/20/2020 0:00|38667.40191|Sector: Technolog...|\n",
            "|       724712|          914|        Payment|8492.717417|2025-07-02 00:00:00|       446|     EUR|             22|    William Davis|   Checking| 5648.19022| 4.505953351|        472|12/26/2020 0:00|28622.56714|Sector: Education...|\n",
            "|       724712|          361|        Payment|4694.874889|2023-12-27 00:00:00|       153|     N/A|             22|    William Davis|   Checking| 5648.19022| 4.505953351|        472|12/26/2020 0:00|28622.56714|Sector: Education...|\n",
            "|       341112|          936|        Payment|899.9522648|2025-07-24 00:00:00|       412|     JPY|             21|    Thomas Thomas|       Loan|2305.325609| 0.560346157|        339| 1/17/2021 0:00|39962.83929|Sector: Healthcar...|\n",
            "|       341112|          383|        Payment|7552.681377|2024-01-18 00:00:00|       466|     JPY|             22|    Thomas Thomas|       Loan|2305.325609| 0.560346157|        339| 1/17/2021 0:00|39962.83929|Sector: Healthcar...|\n",
            "|       871591|          969|     Withdrawal|7361.485591|2025-08-26 00:00:00|       458|     EUR|              3|   Jennifer Brown|    Savings|45468.13555| 2.084925574|        705| 2/19/2021 0:00|38446.33347|Sector: Finance, ...|\n",
            "|       871591|          416|        Deposit|7167.500613|2024-02-20 00:00:00|       396|     GBP|             11|   Jennifer Brown|    Savings|45468.13555| 2.084925574|        705| 2/19/2021 0:00|38446.33347|Sector: Finance, ...|\n",
            "+-------------+-------------+---------------+-----------+-------------------+----------+--------+---------------+-----------------+-----------+-----------+------------+-----------+---------------+-----------+--------------------+\n",
            "only showing top 20 rows\n",
            "\n"
          ]
        }
      ]
    },
    {
      "cell_type": "markdown",
      "source": [
        "**C] Outliers checking**"
      ],
      "metadata": {
        "id": "WmfYc8x56vSi"
      }
    },
    {
      "cell_type": "code",
      "source": [
        "from pyspark.sql.functions import mean, stddev, col\n",
        "\n",
        "# Calculate mean and standard deviation for the 'Amount' column\n",
        "stats = df.select(mean('Amount').alias('mean'), stddev('Amount').alias('stddev')).first()\n",
        "mean_value = stats['mean']\n",
        "stddev_value = stats['stddev']\n",
        "\n",
        "# Define the filter condition for outliers (values outside the range of mean ± 3 * stddev)\n",
        "outlier_condition = (col('Amount') < mean_value - 3 * stddev_value) | (col('Amount') > mean_value + 3 * stddev_value)\n",
        "\n",
        "# Count the number of outliers\n",
        "outliers_count = df.filter(outlier_condition).count()\n",
        "\n",
        "print(f\"Number of outliers: {outliers_count}\")\n"
      ],
      "metadata": {
        "colab": {
          "base_uri": "https://localhost:8080/"
        },
        "id": "HwdDKfI86yau",
        "outputId": "5b539fea-ab7f-4e20-f2c5-f5657dc833fc"
      },
      "execution_count": 25,
      "outputs": [
        {
          "output_type": "stream",
          "name": "stdout",
          "text": [
            "Number of outliers: 0\n"
          ]
        }
      ]
    },
    {
      "cell_type": "markdown",
      "source": [
        "**D] Extract Year , Month and Day from Transaction date**"
      ],
      "metadata": {
        "id": "JK7gRy-GCpRY"
      }
    },
    {
      "cell_type": "code",
      "source": [
        "from pyspark.sql.functions import year, month, dayofmonth, hour\n",
        "df = df.withColumn('TransactionYear', year(col('TransactionDate')))\n",
        "df = df.withColumn('TransactionMonth', month(col('TransactionDate')))\n",
        "df = df.withColumn('TransactionDay', dayofmonth(col('TransactionDate')))\n"
      ],
      "metadata": {
        "id": "4tgYjUShu6Ok"
      },
      "execution_count": 26,
      "outputs": []
    },
    {
      "cell_type": "markdown",
      "source": [
        "##**Exploratory Data analysis**"
      ],
      "metadata": {
        "id": "yuBelTHBuvBt"
      }
    },
    {
      "cell_type": "code",
      "source": [
        "# get stats\n",
        "df.describe().show()\n"
      ],
      "metadata": {
        "colab": {
          "base_uri": "https://localhost:8080/"
        },
        "id": "mCQhZbsRuRBW",
        "outputId": "09fe1110-7d39-46eb-be22-7a085c916437"
      },
      "execution_count": 27,
      "outputs": [
        {
          "output_type": "stream",
          "name": "stdout",
          "text": [
            "+-------+------------------+------------------+---------------+------------------+------------------+--------+-----------------+----------------+-----------+------------------+------------------+------------------+-------------+------------------+--------------------+------------------+------------------+------------------+\n",
            "|summary|     AccountNumber|     TransactionID|TransactionType|            Amount|        BranchCode|Currency|  TransactionTime|   AccountHolder|AccountType|           Balance|      InterestRate|       CreditScore|  OpeningDate|        LoanAmount|AccountHolderDetails|   TransactionYear|  TransactionMonth|    TransactionDay|\n",
            "+-------+------------------+------------------+---------------+------------------+------------------+--------+-----------------+----------------+-----------+------------------+------------------+------------------+-------------+------------------+--------------------+------------------+------------------+------------------+\n",
            "|  count|               871|               871|            871|               871|               871|     871|              871|             871|        871|               871|               871|               871|          871|               871|                 871|               871|               871|               871|\n",
            "|   mean| 553012.3306544202| 501.3524684270953|           NULL| 5076.124682597589| 252.2273249138921|  -999.0|11.92996555683123|            NULL|       NULL| 25076.06086317046| 2.638409579925372| 581.4971297359357|         NULL| 26804.87678835585|                NULL|2023.9058553386913| 6.105625717566016|15.673938002296211|\n",
            "| stddev|259045.83114878365|288.14074385079317|           NULL|2752.4611904688704|143.35185789007696|     0.0|6.533444278230531|            NULL|       NULL|14282.285074344336|1.2922946349364626|157.51406338535588|         NULL|12738.965762896423|                NULL|0.7895001603464008|3.3052174766265563| 8.844207039213504|\n",
            "|    min|            100268|                 1|        Deposit|        138.777986|                 1|    *^$$|                1|Barbara Anderson|   Checking|       50.97685158|       0.502032369|               300|1/1/2020 0:00|        5221.46154|Sector: Education...|              2023|                 1|                 1|\n",
            "|    max|            996071|              1000|     Withdrawal|        9987.02423|               499|     USD|               23|  William Wilson|    Savings|       49962.61851|       4.982510992|               849|9/9/2020 0:00|       49898.45567|Sector: Technolog...|              2025|                12|                31|\n",
            "+-------+------------------+------------------+---------------+------------------+------------------+--------+-----------------+----------------+-----------+------------------+------------------+------------------+-------------+------------------+--------------------+------------------+------------------+------------------+\n",
            "\n"
          ]
        }
      ]
    },
    {
      "cell_type": "markdown",
      "source": [
        "**1] Check most frequent transaction type**"
      ],
      "metadata": {
        "id": "goz4el5xCgnh"
      }
    },
    {
      "cell_type": "code",
      "source": [
        "df.groupBy('TransactionType').count().orderBy(col('count').desc()).show()"
      ],
      "metadata": {
        "colab": {
          "base_uri": "https://localhost:8080/"
        },
        "id": "uch7Emw7u4nV",
        "outputId": "40ed6cbb-b6e1-4ae5-c67b-12093f41eb7b"
      },
      "execution_count": 34,
      "outputs": [
        {
          "output_type": "stream",
          "name": "stdout",
          "text": [
            "+---------------+-----+\n",
            "|TransactionType|count|\n",
            "+---------------+-----+\n",
            "|        Payment|  277|\n",
            "|       Transfer|  207|\n",
            "|        Deposit|  197|\n",
            "|     Withdrawal|  190|\n",
            "+---------------+-----+\n",
            "\n"
          ]
        }
      ]
    },
    {
      "cell_type": "markdown",
      "source": [
        "**2] Analysing Total Amount and Avg balance of each account**"
      ],
      "metadata": {
        "id": "tOPZEmwxC-3U"
      }
    },
    {
      "cell_type": "code",
      "source": [
        "from pyspark.sql.functions import sum as Fsum, count as Fcount, mean as Fmean, median as Fmedian, round as Fround, desc as Fdesc, asc as Fasc\n",
        "\n",
        "df_aggregated = df.groupBy('AccountNumber').agg(\n",
        "    Fround(Fsum('Amount'),2).alias('TotalAmount'),\n",
        "    Fround(Fmean('Balance'),2).alias('AverageBalance')\n",
        ").orderBy(col('TotalAmount').desc())\n",
        "\n",
        "df_aggregated.show()"
      ],
      "metadata": {
        "colab": {
          "base_uri": "https://localhost:8080/"
        },
        "id": "pA9he2ayu_Sc",
        "outputId": "06ab2180-282d-449c-8891-7ee10c85ac38"
      },
      "execution_count": 44,
      "outputs": [
        {
          "output_type": "stream",
          "name": "stdout",
          "text": [
            "+-------------+-----------+--------------+\n",
            "|AccountNumber|TotalAmount|AverageBalance|\n",
            "+-------------+-----------+--------------+\n",
            "|       936946|   19675.18|      46025.21|\n",
            "|       463702|   19001.19|      16185.74|\n",
            "|       845733|   18923.71|      15652.27|\n",
            "|       988691|   18755.95|       4588.23|\n",
            "|       764728|    18640.2|      46664.95|\n",
            "|       140388|   18455.01|       26414.3|\n",
            "|       192126|   18417.82|      44891.35|\n",
            "|       875740|   18390.96|      29666.73|\n",
            "|       624735|   18326.77|      18466.39|\n",
            "|       119466|   18055.77|       8117.24|\n",
            "|       341941|   18038.01|      18678.81|\n",
            "|       273833|   18008.43|      32003.43|\n",
            "|       873344|    17953.0|      27501.74|\n",
            "|       479868|   17662.21|       9528.76|\n",
            "|       118749|   17641.94|       4143.09|\n",
            "|       959316|    17593.1|       13124.1|\n",
            "|       851388|   17225.94|      15181.64|\n",
            "|       640162|   16831.73|       18674.9|\n",
            "|       653358|   16815.23|      45276.78|\n",
            "|       394174|    16695.1|       9864.19|\n",
            "+-------------+-----------+--------------+\n",
            "only showing top 20 rows\n",
            "\n"
          ]
        }
      ]
    },
    {
      "cell_type": "markdown",
      "source": [
        "**Insights:**\n",
        "\n",
        "- **High Total Amount Correlates with Higher Average Balance**: Accounts with higher total amounts generally have higher average balances, indicating a trend where larger transactions are associated with higher average account balances.\n",
        "- **Notable Exceptions**: Some accounts, like `817886` and `119374`, have high total amounts but significantly lower average balances, suggesting occasional large transactions amidst generally lower average balances."
      ],
      "metadata": {
        "id": "HCnB-yHEFfEz"
      }
    },
    {
      "cell_type": "markdown",
      "source": [
        "**3] Analysing Trends of Total Amount and no of transactions by year and montha**"
      ],
      "metadata": {
        "id": "XlTXY9BaDlFt"
      }
    },
    {
      "cell_type": "code",
      "source": [
        "df_trends = df.groupBy('TransactionYear', 'TransactionMonth').agg(\n",
        "    Fround(Fsum('Amount'),2).alias('TotalAmount'),\n",
        "    Fcount('TransactionID').alias('TransactionCount')\n",
        ").orderBy(col('TransactionYear').asc(), col('TransactionMonth').asc())\n",
        "df_trends.show()"
      ],
      "metadata": {
        "colab": {
          "base_uri": "https://localhost:8080/"
        },
        "id": "un61jZwj1v2G",
        "outputId": "b5046e00-841d-4f30-ac04-0f39aaba96a4"
      },
      "execution_count": 39,
      "outputs": [
        {
          "output_type": "stream",
          "name": "stdout",
          "text": [
            "+---------------+----------------+-----------+----------------+\n",
            "|TransactionYear|TransactionMonth|TotalAmount|TransactionCount|\n",
            "+---------------+----------------+-----------+----------------+\n",
            "|           2023|               1|  127000.38|              25|\n",
            "|           2023|               2|  134818.35|              25|\n",
            "|           2023|               3|  129389.81|              26|\n",
            "|           2023|               4|   153976.9|              27|\n",
            "|           2023|               5|  130079.14|              27|\n",
            "|           2023|               6|  135687.85|              26|\n",
            "|           2023|               7|  139689.75|              28|\n",
            "|           2023|               8|  135001.78|              28|\n",
            "|           2023|               9|  116264.52|              23|\n",
            "|           2023|              10|  159495.98|              29|\n",
            "|           2023|              11|  125990.91|              25|\n",
            "|           2023|              12|  134070.37|              27|\n",
            "|           2024|               1|  146239.18|              28|\n",
            "|           2024|               2|  125524.49|              25|\n",
            "|           2024|               3|  143211.17|              28|\n",
            "|           2024|               4|  128030.36|              26|\n",
            "|           2024|               5|  133588.46|              27|\n",
            "|           2024|               6|  162414.72|              27|\n",
            "|           2024|               7|  121591.29|              26|\n",
            "|           2024|               8|  151679.59|              27|\n",
            "+---------------+----------------+-----------+----------------+\n",
            "only showing top 20 rows\n",
            "\n"
          ]
        }
      ]
    },
    {
      "cell_type": "markdown",
      "source": [
        "Insights:\n",
        "\n",
        "- **High Transaction Amounts in Early 2025**: The total transaction amounts peak notably in early 2025, particularly in April (`163028.91`) and January (`136148.89`), indicating a significant increase in transaction volume during this period.\n",
        "  \n",
        "- **Consistent Transaction Activity**: Despite fluctuations in total amounts, transaction counts are relatively stable across most months, with variations typically within a few transactions, suggesting consistent transaction activity across the months.\n",
        "\n",
        "Summary\n",
        "\n",
        "The data shows that while transaction amounts vary significantly, especially in early 2025, the number of transactions remains fairly steady, pointing to periods of high transaction activity."
      ],
      "metadata": {
        "id": "X-a5-jyuFrwv"
      }
    },
    {
      "cell_type": "markdown",
      "source": [
        "**4] Analysing account holder name by highest avg loan amount as well as their avg credit scores and avg interest rates**"
      ],
      "metadata": {
        "id": "DQ3rNGEhD6s8"
      }
    },
    {
      "cell_type": "code",
      "source": [
        "df_account_holders = df.groupby('AccountHolder').agg( Fround(Fmean('LoanAmount'),2).alias('Avg Loan Amount'), Fround(Fmean('CreditScore'),2).alias('Avg Credit score'), Fround(Fmean(\n",
        "'InterestRate'),2).alias('Avg Interest Rate'), Fround(Fmean('TransactionTime'),2).alias('Avg transaction Time')).orderBy(Fdesc('Avg Loan Amount')).limit(1)\n",
        "df_account_holders.show()"
      ],
      "metadata": {
        "colab": {
          "base_uri": "https://localhost:8080/"
        },
        "id": "Mm-WmXkp2sbs",
        "outputId": "40264b8a-5415-4e36-d626-f6e33b55e5cc"
      },
      "execution_count": 43,
      "outputs": [
        {
          "output_type": "stream",
          "name": "stdout",
          "text": [
            "+-------------+---------------+----------------+-----------------+--------------------+\n",
            "|AccountHolder|Avg Loan Amount|Avg Credit score|Avg Interest Rate|Avg transaction Time|\n",
            "+-------------+---------------+----------------+-----------------+--------------------+\n",
            "|  Sarah Jones|       49898.46|           788.0|             1.07|                17.5|\n",
            "+-------------+---------------+----------------+-----------------+--------------------+\n",
            "\n"
          ]
        }
      ]
    },
    {
      "cell_type": "markdown",
      "source": [
        "Insights:\n",
        "\n",
        "- **High Loan Amounts**: Account holders like Sarah Jones and Linda Garcia have the highest average loan amounts, indicating substantial borrowing.\n",
        "- **Credit Score Trends**: Higher loan amounts often correlate with higher average credit scores, though some exceptions, like Barbara Miller, show lower credit scores.\n",
        "- **Interest Rates and Transaction Times**: Interest rates vary widely, with some account holders paying significantly more, while transaction times remain fairly consistent across individuals."
      ],
      "metadata": {
        "id": "RV9__5cXF6v-"
      }
    },
    {
      "cell_type": "markdown",
      "source": [
        "##**Save the Transformed Dataframe**"
      ],
      "metadata": {
        "id": "ElcTSQdP_4Zf"
      }
    },
    {
      "cell_type": "code",
      "source": [
        "# CSV format\n",
        "df.write \\\n",
        "    .format(\"csv\") \\\n",
        "    .option(\"header\", \"true\") \\\n",
        "    .mode(\"overwrite\") \\\n",
        "    .save(\"/content/drive/MyDrive/Py Spark/Banking Project/Final Dataframe/Banking_DF.csv\")\n"
      ],
      "metadata": {
        "id": "7Qbnc-yE94PL"
      },
      "execution_count": 32,
      "outputs": []
    },
    {
      "cell_type": "code",
      "source": [
        "# Parquet format\n",
        "df.write \\\n",
        "    .format(\"parquet\") \\\n",
        "    .mode(\"overwrite\") \\\n",
        "    .save(\"/content/drive/MyDrive/Py Spark/Banking Project/Final Dataframe/Banking_DF.parquet\")\n"
      ],
      "metadata": {
        "id": "qrz-wdjz_STv"
      },
      "execution_count": 33,
      "outputs": []
    }
  ],
  "metadata": {
    "colab": {
      "provenance": [],
      "collapsed_sections": [
        "yuBelTHBuvBt"
      ],
      "include_colab_link": true
    },
    "kernelspec": {
      "display_name": "Python 3",
      "name": "python3"
    },
    "language_info": {
      "name": "python"
    }
  },
  "nbformat": 4,
  "nbformat_minor": 0
}